{
 "cells": [
  {
   "cell_type": "code",
   "execution_count": 1,
   "id": "3fbaaa83",
   "metadata": {},
   "outputs": [
    {
     "name": "stdout",
     "output_type": "stream",
     "text": [
      "Guess a number between 1 and 100\n",
      "Enter the guess 1: 4\n",
      "Number is small, please try again!!\n",
      "Enter the guess 2: 46\n",
      "Number is small, please try again!!\n",
      "Enter the guess 3: 76\n",
      "Number is high ,please try again!!\n",
      "Enter the guess 4: 65\n",
      "Number is high ,please try again!!\n",
      "Enter the guess 5: 55\n",
      "Number is high ,please try again!!\n",
      "Enter the guess 6: 49\n",
      "Number is high ,please try again!!\n",
      "Enter the guess 7: 47\n",
      "CONGRATULATIONS!!!\n"
     ]
    }
   ],
   "source": [
    "import random\n",
    "\n",
    "value = random.randint(1,100)\n",
    "count = 0\n",
    "guess = 0\n",
    "\n",
    "print(\"Guess a number between 1 and 100\")\n",
    "\n",
    "while guess != value:\n",
    "    count += 1\n",
    "    guess = input(f\"Enter the guess {count}: \")\n",
    "    \n",
    "    if guess.isnumeric():                       #check if guess is numeric or not\n",
    "        guess = int(guess)\n",
    "    else:\n",
    "        print(\"Numbers only, please!\")\n",
    "        continue\n",
    "    if guess > value:                           #if guess is greater than correct number\n",
    "        print(\"Number is high ,please try again!!\")\n",
    "    elif guess < value:\n",
    "        print(\"Number is small, please try again!!\")\n",
    "else:\n",
    "    print(\"CONGRATULATIONS!!!\")"
   ]
  },
  {
   "cell_type": "code",
   "execution_count": null,
   "id": "c8b71572",
   "metadata": {},
   "outputs": [],
   "source": []
  }
 ],
 "metadata": {
  "kernelspec": {
   "display_name": "Python 3",
   "language": "python",
   "name": "python3"
  },
  "language_info": {
   "codemirror_mode": {
    "name": "ipython",
    "version": 3
   },
   "file_extension": ".py",
   "mimetype": "text/x-python",
   "name": "python",
   "nbconvert_exporter": "python",
   "pygments_lexer": "ipython3",
   "version": "3.8.8"
  }
 },
 "nbformat": 4,
 "nbformat_minor": 5
}
